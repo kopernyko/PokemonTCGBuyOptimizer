{
 "cells": [
  {
   "cell_type": "markdown",
   "id": "eff56ae0-fc87-4241-8cef-a9a6d567e77e",
   "metadata": {},
   "source": [
    "# Pokemon TCG Find Optimal (i.e: Stellar Crown Booster Pack) Order Based on Price "
   ]
  },
  {
   "cell_type": "code",
   "execution_count": 3,
   "id": "dce55edd-8a0d-4f39-a98e-91125544b5a1",
   "metadata": {},
   "outputs": [],
   "source": [
    "# !pip install bs4"
   ]
  },
  {
   "cell_type": "code",
   "execution_count": 4,
   "id": "f7b1a626-61da-4ef8-a7ae-56f9dfbf3097",
   "metadata": {},
   "outputs": [],
   "source": [
    "# !pip install selenium"
   ]
  },
  {
   "cell_type": "code",
   "execution_count": 5,
   "id": "4c0bc695-8ce7-4b3d-bb33-32a073a05be0",
   "metadata": {},
   "outputs": [],
   "source": [
    "from bs4 import BeautifulSoup\n",
    "from selenium import webdriver\n",
    "from selenium.webdriver.common.keys import Keys\n",
    "from selenium.webdriver.support.ui import Select\n",
    "from selenium.webdriver.support.ui import WebDriverWait\n",
    "from selenium.webdriver.common.by import By\n",
    "import time\n",
    "import requests\n",
    "\n",
    "driver = webdriver.Chrome()\n",
    "url= \"https://www.cardmarket.com/es/Pokemon/Products/Boosters/Stellar-Crown-Booster?language=1\"\n",
    "driver.maximize_window()\n",
    "driver.get(url)\n",
    "time.sleep(1)\n",
    "username = driver.find_element(By.NAME, \"username\")\n",
    "password = driver.find_element(By.NAME, \"userPassword\")\n",
    "username.send_keys(\"<YourUsername>\")\n",
    "password.send_keys(\"<YourPassword>\")\n",
    "login_but = driver.find_element(By.XPATH, \"//input[@class='btn btn-outline-primary btn-sm']\")\n",
    "login_but.click()\n",
    "time.sleep(2)\n",
    "\n",
    "content = driver.page_source.encode('utf-8').strip()\n",
    "soup = BeautifulSoup(content,\"html.parser\")\n",
    "driver.quit()"
   ]
  },
  {
   "cell_type": "code",
   "execution_count": 6,
   "id": "d03f7595-8f2e-4f3c-9380-9a15715b8286",
   "metadata": {},
   "outputs": [],
   "source": [
    "offers_table = soup.find_all('div', class_ = 'row g-0 article-row')"
   ]
  },
  {
   "cell_type": "code",
   "execution_count": 7,
   "id": "4c885273-e528-46f0-a54a-d61b089ca1cf",
   "metadata": {},
   "outputs": [],
   "source": [
    "budget = 100\n",
    "spent = 0\n",
    "spent_check = 0\n",
    "packs_total = 0\n",
    "response_string = \"What To Buy:\\n\""
   ]
  },
  {
   "cell_type": "code",
   "execution_count": 8,
   "id": "432dc351-b6b9-4804-8976-0077da42b465",
   "metadata": {
    "scrolled": true
   },
   "outputs": [],
   "source": [
    "\n",
    "for listing in offers_table:\n",
    "    if spent_check >= budget:\n",
    "        break\n",
    "    if listing.find(attrs={\"aria-label\": \"Ubicación del artículo: Reino Unido\"}) != None:\n",
    "        continue\n",
    "    else:\n",
    "        seller_username = listing.find_all('span', class_ = 'd-flex has-content-centered me-1')[1].text\n",
    "        pack_price = float(listing.find('span', class_ = 'color-primary small text-end text-nowrap fw-bold').text.replace(\"€\", \"\").strip().replace(\",\", \".\").strip())\n",
    "        packs_available = int(listing.find('span', class_ = 'item-count small text-end').text)\n",
    "        pack_shipping = float(listing.find('span', class_ = 'ms-1').text.replace(\"€\", \"\").strip().replace(\",\", \".\").strip())\n",
    "\n",
    "        packs_bought = 0\n",
    "        while packs_bought < packs_available and spent < budget:\n",
    "            if spent + pack_price + pack_shipping > budget: # add shipping cost when figured out\n",
    "                spent_check = budget\n",
    "                break\n",
    "            spent += pack_price + pack_shipping # add shipping cost when figured out\n",
    "            spent_check += pack_price + pack_shipping # add shipping cost when figured out\n",
    "            packs_bought += 1\n",
    "            packs_total += 1\n",
    "        response_string += \"From: \" + seller_username + \", buy \" + str(packs_bought) + \" \\n\""
   ]
  },
  {
   "cell_type": "code",
   "execution_count": 19,
   "id": "67b825f3-5996-459d-8d19-7a8175ad0b2b",
   "metadata": {},
   "outputs": [
    {
     "name": "stdout",
     "output_type": "stream",
     "text": [
      "What To Buy:\n",
      "From: Raulsnchz11, buy 1 \n",
      "From: SecretPocketMonster, buy 1 \n",
      "From: klabro, buy 4 \n",
      "From: Irius-here, buy 7 \n",
      "From: ProfiGrodyCZ, buy 2 \n",
      "Total: 96.77000000000002€ for 15 packs.\n",
      "Total: 96.77000000000002€ for 15 packs.\n",
      "Price Per Pack: 6.451333333333335€.\n"
     ]
    }
   ],
   "source": [
    "price_per_pack = spent / packs_total\n",
    "response_string += \"Total: \" + str(spent) + \"€ for \" + str(packs_total) + \" packs.\\nPrice Per Pack: \" + str(price_per_pack) + \"€.\"\n",
    "print(response_string)"
   ]
  },
  {
   "cell_type": "code",
   "execution_count": null,
   "id": "78e800bd-b4b8-4eed-90ac-565aaf599be1",
   "metadata": {},
   "outputs": [],
   "source": []
  }
 ],
 "metadata": {
  "kernelspec": {
   "display_name": "Python 3 (ipykernel)",
   "language": "python",
   "name": "python3"
  },
  "language_info": {
   "codemirror_mode": {
    "name": "ipython",
    "version": 3
   },
   "file_extension": ".py",
   "mimetype": "text/x-python",
   "name": "python",
   "nbconvert_exporter": "python",
   "pygments_lexer": "ipython3",
   "version": "3.12.7"
  }
 },
 "nbformat": 4,
 "nbformat_minor": 5
}
